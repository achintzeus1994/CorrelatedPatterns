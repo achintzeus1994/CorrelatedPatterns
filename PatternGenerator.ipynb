{
 "cells": [
  {
   "cell_type": "code",
   "execution_count": 233,
   "metadata": {},
   "outputs": [],
   "source": [
    "import numpy as np\n",
    "from scipy.linalg import null_space\n",
    "import matplotlib.pyplot as plt"
   ]
  },
  {
   "cell_type": "code",
   "execution_count": null,
   "metadata": {
    "scrolled": false
   },
   "outputs": [],
   "source": [
    "rho    = 0.1;\n",
    "N      = 1000;\n",
    "K      = 50000*0.005;  \n",
    "c      = K/N;\n",
    "alpha  = np.linspace(0.1, 0.8, num=8);\n",
    "p      = alpha*c*N;\n",
    "p      = p.astype(int);\n",
    "p_val  = len(p);\n",
    " \n",
    "for i in range(p_val):\n",
    "    cormat_cat = (rho**2)*(np.ones((p[i], p[i]))-np.identity(p[i]))+np.identity(p[i]);\n",
    "    f_row      = rho*np.ones((1,p[i]));\n",
    "    f_col      = np.concatenate((np.ones((1,1)),f_row),axis=1);\n",
    "    cormat_cat = np.concatenate((f_row,cormat_cat),axis=0);\n",
    "    cormat_cat = np.concatenate((f_col.T,cormat_cat),axis=1);\n",
    "    L          = np.linalg.cholesky(cormat_cat);\n",
    "    xi         = np.matmul(null_space(np.concatenate((np.random.normal(0,1,size=(N-(p[i]+2),N)),np.ones((1,N))))),L);\n",
    "    xi         = xi-np.mean(xi);\n",
    "    xi         = xi/np.std(xi);\n",
    "    \n",
    "# I would like to store xi in different files labelled rho_xx_alpha_yy.mat\n",
    "# Notice rho is 0.1 in the program. We need it to go till 0.8 in steps of 0.1 \n",
    "# N=1000 in the program. We need N=10,000 ; 20,000; ; 50,000"
   ]
  }
 ],
 "metadata": {
  "kernelspec": {
   "display_name": "Python 3",
   "language": "python",
   "name": "python3"
  },
  "language_info": {
   "codemirror_mode": {
    "name": "ipython",
    "version": 3
   },
   "file_extension": ".py",
   "mimetype": "text/x-python",
   "name": "python",
   "nbconvert_exporter": "python",
   "pygments_lexer": "ipython3",
   "version": "3.8.3"
  }
 },
 "nbformat": 4,
 "nbformat_minor": 4
}
